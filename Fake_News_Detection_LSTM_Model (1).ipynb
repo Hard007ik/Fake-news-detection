{
  "cells": [
    {
      "cell_type": "code",
      "execution_count": null,
      "metadata": {
        "colab": {
          "base_uri": "https://localhost:8080/"
        },
        "id": "llpj91APwm21",
        "outputId": "2d8aeb72-bb02-4b45-b7fb-e36d54655b9e"
      },
      "outputs": [
        {
          "output_type": "stream",
          "name": "stdout",
          "text": [
            "Mounted at /content/drive\n"
          ]
        }
      ],
      "source": [
        "from google.colab import drive\n",
        "drive.mount('/content/drive')"
      ]
    },
    {
      "cell_type": "code",
      "execution_count": null,
      "metadata": {
        "colab": {
          "base_uri": "https://localhost:8080/"
        },
        "id": "v3OCTMDxwhwL",
        "outputId": "53141569-64b1-4829-e15a-915830f97890"
      },
      "outputs": [
        {
          "output_type": "stream",
          "name": "stdout",
          "text": [
            "<class 'pandas.core.frame.DataFrame'>\n",
            "RangeIndex: 42384 entries, 0 to 42383\n",
            "Data columns (total 3 columns):\n",
            " #   Column      Non-Null Count  Dtype \n",
            "---  ------      --------------  ----- \n",
            " 0   text        42331 non-null  object\n",
            " 1   label       42384 non-null  int64 \n",
            " 2   clean_news  42328 non-null  object\n",
            "dtypes: int64(1), object(2)\n",
            "memory usage: 993.5+ KB\n"
          ]
        }
      ],
      "source": [
        "import pandas as pd\n",
        "df = pd.read_csv('/content/drive/MyDrive/Fake News Detection Dataset/PreProcessedDS.csv')\n",
        "df.info()"
      ]
    },
    {
      "cell_type": "code",
      "execution_count": null,
      "metadata": {
        "colab": {
          "base_uri": "https://localhost:8080/"
        },
        "id": "B7E9d9SewhwL",
        "outputId": "e6c3a0e5-2919-4483-842a-b29f24175bc1"
      },
      "outputs": [
        {
          "output_type": "stream",
          "name": "stdout",
          "text": [
            "<class 'pandas.core.frame.DataFrame'>\n",
            "RangeIndex: 42328 entries, 0 to 42327\n",
            "Data columns (total 3 columns):\n",
            " #   Column      Non-Null Count  Dtype \n",
            "---  ------      --------------  ----- \n",
            " 0   text        42328 non-null  object\n",
            " 1   label       42328 non-null  int64 \n",
            " 2   clean_news  42328 non-null  object\n",
            "dtypes: int64(1), object(2)\n",
            "memory usage: 992.2+ KB\n"
          ]
        }
      ],
      "source": [
        "df.dropna(subset=['clean_news'], inplace=True, ignore_index=True)\n",
        "df.info()"
      ]
    },
    {
      "cell_type": "code",
      "execution_count": null,
      "metadata": {
        "colab": {
          "base_uri": "https://localhost:8080/"
        },
        "id": "6h5whrOTwhwL",
        "outputId": "5088b14b-5751-40e1-bfa2-ae2bd99cf69b"
      },
      "outputs": [
        {
          "output_type": "execute_result",
          "data": {
            "text/plain": [
              "0"
            ]
          },
          "metadata": {},
          "execution_count": 6
        }
      ],
      "source": [
        "df.duplicated().sum()"
      ]
    },
    {
      "cell_type": "code",
      "execution_count": null,
      "metadata": {
        "colab": {
          "base_uri": "https://localhost:8080/",
          "height": 206
        },
        "id": "EWwQi4VKwhwL",
        "outputId": "bea056f7-155e-4d9d-8ea3-09cc6b291ab1"
      },
      "outputs": [
        {
          "output_type": "execute_result",
          "data": {
            "text/plain": [
              "                                                text  label  \\\n",
              "0  Donald Trump just couldn t wish all Americans ...      0   \n",
              "1  House Intelligence Committee Chairman Devin Nu...      0   \n",
              "2  On Friday, it was revealed that former Milwauk...      0   \n",
              "3  On Christmas day, Donald Trump announced that ...      0   \n",
              "4  Pope Francis used his annual Christmas Day mes...      0   \n",
              "\n",
              "                                          clean_news  \n",
              "0  donald trump wish american happy new year leav...  \n",
              "1  house intelligence committee chairman devin nu...  \n",
              "2  friday revealed former milwaukee sheriff david...  \n",
              "3  christmas day donald trump announced would bac...  \n",
              "4  pope francis used annual christmas day message...  "
            ],
            "text/html": [
              "\n",
              "  <div id=\"df-c8970788-4826-4865-8796-cd3334fbe785\" class=\"colab-df-container\">\n",
              "    <div>\n",
              "<style scoped>\n",
              "    .dataframe tbody tr th:only-of-type {\n",
              "        vertical-align: middle;\n",
              "    }\n",
              "\n",
              "    .dataframe tbody tr th {\n",
              "        vertical-align: top;\n",
              "    }\n",
              "\n",
              "    .dataframe thead th {\n",
              "        text-align: right;\n",
              "    }\n",
              "</style>\n",
              "<table border=\"1\" class=\"dataframe\">\n",
              "  <thead>\n",
              "    <tr style=\"text-align: right;\">\n",
              "      <th></th>\n",
              "      <th>text</th>\n",
              "      <th>label</th>\n",
              "      <th>clean_news</th>\n",
              "    </tr>\n",
              "  </thead>\n",
              "  <tbody>\n",
              "    <tr>\n",
              "      <th>0</th>\n",
              "      <td>Donald Trump just couldn t wish all Americans ...</td>\n",
              "      <td>0</td>\n",
              "      <td>donald trump wish american happy new year leav...</td>\n",
              "    </tr>\n",
              "    <tr>\n",
              "      <th>1</th>\n",
              "      <td>House Intelligence Committee Chairman Devin Nu...</td>\n",
              "      <td>0</td>\n",
              "      <td>house intelligence committee chairman devin nu...</td>\n",
              "    </tr>\n",
              "    <tr>\n",
              "      <th>2</th>\n",
              "      <td>On Friday, it was revealed that former Milwauk...</td>\n",
              "      <td>0</td>\n",
              "      <td>friday revealed former milwaukee sheriff david...</td>\n",
              "    </tr>\n",
              "    <tr>\n",
              "      <th>3</th>\n",
              "      <td>On Christmas day, Donald Trump announced that ...</td>\n",
              "      <td>0</td>\n",
              "      <td>christmas day donald trump announced would bac...</td>\n",
              "    </tr>\n",
              "    <tr>\n",
              "      <th>4</th>\n",
              "      <td>Pope Francis used his annual Christmas Day mes...</td>\n",
              "      <td>0</td>\n",
              "      <td>pope francis used annual christmas day message...</td>\n",
              "    </tr>\n",
              "  </tbody>\n",
              "</table>\n",
              "</div>\n",
              "    <div class=\"colab-df-buttons\">\n",
              "\n",
              "  <div class=\"colab-df-container\">\n",
              "    <button class=\"colab-df-convert\" onclick=\"convertToInteractive('df-c8970788-4826-4865-8796-cd3334fbe785')\"\n",
              "            title=\"Convert this dataframe to an interactive table.\"\n",
              "            style=\"display:none;\">\n",
              "\n",
              "  <svg xmlns=\"http://www.w3.org/2000/svg\" height=\"24px\" viewBox=\"0 -960 960 960\">\n",
              "    <path d=\"M120-120v-720h720v720H120Zm60-500h600v-160H180v160Zm220 220h160v-160H400v160Zm0 220h160v-160H400v160ZM180-400h160v-160H180v160Zm440 0h160v-160H620v160ZM180-180h160v-160H180v160Zm440 0h160v-160H620v160Z\"/>\n",
              "  </svg>\n",
              "    </button>\n",
              "\n",
              "  <style>\n",
              "    .colab-df-container {\n",
              "      display:flex;\n",
              "      gap: 12px;\n",
              "    }\n",
              "\n",
              "    .colab-df-convert {\n",
              "      background-color: #E8F0FE;\n",
              "      border: none;\n",
              "      border-radius: 50%;\n",
              "      cursor: pointer;\n",
              "      display: none;\n",
              "      fill: #1967D2;\n",
              "      height: 32px;\n",
              "      padding: 0 0 0 0;\n",
              "      width: 32px;\n",
              "    }\n",
              "\n",
              "    .colab-df-convert:hover {\n",
              "      background-color: #E2EBFA;\n",
              "      box-shadow: 0px 1px 2px rgba(60, 64, 67, 0.3), 0px 1px 3px 1px rgba(60, 64, 67, 0.15);\n",
              "      fill: #174EA6;\n",
              "    }\n",
              "\n",
              "    .colab-df-buttons div {\n",
              "      margin-bottom: 4px;\n",
              "    }\n",
              "\n",
              "    [theme=dark] .colab-df-convert {\n",
              "      background-color: #3B4455;\n",
              "      fill: #D2E3FC;\n",
              "    }\n",
              "\n",
              "    [theme=dark] .colab-df-convert:hover {\n",
              "      background-color: #434B5C;\n",
              "      box-shadow: 0px 1px 3px 1px rgba(0, 0, 0, 0.15);\n",
              "      filter: drop-shadow(0px 1px 2px rgba(0, 0, 0, 0.3));\n",
              "      fill: #FFFFFF;\n",
              "    }\n",
              "  </style>\n",
              "\n",
              "    <script>\n",
              "      const buttonEl =\n",
              "        document.querySelector('#df-c8970788-4826-4865-8796-cd3334fbe785 button.colab-df-convert');\n",
              "      buttonEl.style.display =\n",
              "        google.colab.kernel.accessAllowed ? 'block' : 'none';\n",
              "\n",
              "      async function convertToInteractive(key) {\n",
              "        const element = document.querySelector('#df-c8970788-4826-4865-8796-cd3334fbe785');\n",
              "        const dataTable =\n",
              "          await google.colab.kernel.invokeFunction('convertToInteractive',\n",
              "                                                    [key], {});\n",
              "        if (!dataTable) return;\n",
              "\n",
              "        const docLinkHtml = 'Like what you see? Visit the ' +\n",
              "          '<a target=\"_blank\" href=https://colab.research.google.com/notebooks/data_table.ipynb>data table notebook</a>'\n",
              "          + ' to learn more about interactive tables.';\n",
              "        element.innerHTML = '';\n",
              "        dataTable['output_type'] = 'display_data';\n",
              "        await google.colab.output.renderOutput(dataTable, element);\n",
              "        const docLink = document.createElement('div');\n",
              "        docLink.innerHTML = docLinkHtml;\n",
              "        element.appendChild(docLink);\n",
              "      }\n",
              "    </script>\n",
              "  </div>\n",
              "\n",
              "\n",
              "<div id=\"df-fad58232-6785-4a92-9786-1096eda46f92\">\n",
              "  <button class=\"colab-df-quickchart\" onclick=\"quickchart('df-fad58232-6785-4a92-9786-1096eda46f92')\"\n",
              "            title=\"Suggest charts\"\n",
              "            style=\"display:none;\">\n",
              "\n",
              "<svg xmlns=\"http://www.w3.org/2000/svg\" height=\"24px\"viewBox=\"0 0 24 24\"\n",
              "     width=\"24px\">\n",
              "    <g>\n",
              "        <path d=\"M19 3H5c-1.1 0-2 .9-2 2v14c0 1.1.9 2 2 2h14c1.1 0 2-.9 2-2V5c0-1.1-.9-2-2-2zM9 17H7v-7h2v7zm4 0h-2V7h2v10zm4 0h-2v-4h2v4z\"/>\n",
              "    </g>\n",
              "</svg>\n",
              "  </button>\n",
              "\n",
              "<style>\n",
              "  .colab-df-quickchart {\n",
              "      --bg-color: #E8F0FE;\n",
              "      --fill-color: #1967D2;\n",
              "      --hover-bg-color: #E2EBFA;\n",
              "      --hover-fill-color: #174EA6;\n",
              "      --disabled-fill-color: #AAA;\n",
              "      --disabled-bg-color: #DDD;\n",
              "  }\n",
              "\n",
              "  [theme=dark] .colab-df-quickchart {\n",
              "      --bg-color: #3B4455;\n",
              "      --fill-color: #D2E3FC;\n",
              "      --hover-bg-color: #434B5C;\n",
              "      --hover-fill-color: #FFFFFF;\n",
              "      --disabled-bg-color: #3B4455;\n",
              "      --disabled-fill-color: #666;\n",
              "  }\n",
              "\n",
              "  .colab-df-quickchart {\n",
              "    background-color: var(--bg-color);\n",
              "    border: none;\n",
              "    border-radius: 50%;\n",
              "    cursor: pointer;\n",
              "    display: none;\n",
              "    fill: var(--fill-color);\n",
              "    height: 32px;\n",
              "    padding: 0;\n",
              "    width: 32px;\n",
              "  }\n",
              "\n",
              "  .colab-df-quickchart:hover {\n",
              "    background-color: var(--hover-bg-color);\n",
              "    box-shadow: 0 1px 2px rgba(60, 64, 67, 0.3), 0 1px 3px 1px rgba(60, 64, 67, 0.15);\n",
              "    fill: var(--button-hover-fill-color);\n",
              "  }\n",
              "\n",
              "  .colab-df-quickchart-complete:disabled,\n",
              "  .colab-df-quickchart-complete:disabled:hover {\n",
              "    background-color: var(--disabled-bg-color);\n",
              "    fill: var(--disabled-fill-color);\n",
              "    box-shadow: none;\n",
              "  }\n",
              "\n",
              "  .colab-df-spinner {\n",
              "    border: 2px solid var(--fill-color);\n",
              "    border-color: transparent;\n",
              "    border-bottom-color: var(--fill-color);\n",
              "    animation:\n",
              "      spin 1s steps(1) infinite;\n",
              "  }\n",
              "\n",
              "  @keyframes spin {\n",
              "    0% {\n",
              "      border-color: transparent;\n",
              "      border-bottom-color: var(--fill-color);\n",
              "      border-left-color: var(--fill-color);\n",
              "    }\n",
              "    20% {\n",
              "      border-color: transparent;\n",
              "      border-left-color: var(--fill-color);\n",
              "      border-top-color: var(--fill-color);\n",
              "    }\n",
              "    30% {\n",
              "      border-color: transparent;\n",
              "      border-left-color: var(--fill-color);\n",
              "      border-top-color: var(--fill-color);\n",
              "      border-right-color: var(--fill-color);\n",
              "    }\n",
              "    40% {\n",
              "      border-color: transparent;\n",
              "      border-right-color: var(--fill-color);\n",
              "      border-top-color: var(--fill-color);\n",
              "    }\n",
              "    60% {\n",
              "      border-color: transparent;\n",
              "      border-right-color: var(--fill-color);\n",
              "    }\n",
              "    80% {\n",
              "      border-color: transparent;\n",
              "      border-right-color: var(--fill-color);\n",
              "      border-bottom-color: var(--fill-color);\n",
              "    }\n",
              "    90% {\n",
              "      border-color: transparent;\n",
              "      border-bottom-color: var(--fill-color);\n",
              "    }\n",
              "  }\n",
              "</style>\n",
              "\n",
              "  <script>\n",
              "    async function quickchart(key) {\n",
              "      const quickchartButtonEl =\n",
              "        document.querySelector('#' + key + ' button');\n",
              "      quickchartButtonEl.disabled = true;  // To prevent multiple clicks.\n",
              "      quickchartButtonEl.classList.add('colab-df-spinner');\n",
              "      try {\n",
              "        const charts = await google.colab.kernel.invokeFunction(\n",
              "            'suggestCharts', [key], {});\n",
              "      } catch (error) {\n",
              "        console.error('Error during call to suggestCharts:', error);\n",
              "      }\n",
              "      quickchartButtonEl.classList.remove('colab-df-spinner');\n",
              "      quickchartButtonEl.classList.add('colab-df-quickchart-complete');\n",
              "    }\n",
              "    (() => {\n",
              "      let quickchartButtonEl =\n",
              "        document.querySelector('#df-fad58232-6785-4a92-9786-1096eda46f92 button');\n",
              "      quickchartButtonEl.style.display =\n",
              "        google.colab.kernel.accessAllowed ? 'block' : 'none';\n",
              "    })();\n",
              "  </script>\n",
              "</div>\n",
              "\n",
              "    </div>\n",
              "  </div>\n"
            ],
            "application/vnd.google.colaboratory.intrinsic+json": {
              "type": "dataframe",
              "variable_name": "df",
              "summary": "{\n  \"name\": \"df\",\n  \"rows\": 42328,\n  \"fields\": [\n    {\n      \"column\": \"text\",\n      \"properties\": {\n        \"dtype\": \"string\",\n        \"num_unique_values\": 42328,\n        \"samples\": [\n          \"On Tuesday, White House Propaganda Minister Sean Spicer once again baffled reporters and other thinking individuals by once again saying the dumbest thing imaginable.Asked why the White House refuses to provide documents related to former National Security Advisor and registered foreign agent Michael Flynn s hiring, Spicer took the tried-and-true route of blaming President Obama.Spicer explained that the Trump White House isn t responsible for anything related to Flynn s hiring because the documents were filled out   during the Obama administration  and  those are not documents that the White House would ever possess. Everything that the White House has been asked to do, the only documents that were made available to [Congress] that they asked for were the ones that the Department of Defense had,  Spicer said, explaining that he doesn t feel that the White House has an obligation to provide the information Congress has requested. How about these calls made where [Flynn] was working during the transition on behalf of a future President Trump?  CBS s Major Garrett asked.  Aren t those things that you should have some responsibility or obligation to provide if you can? It s a question [of] if you can,  Spicer said.  To ask for every call a national security adviser made is pretty outlandish. Those calls were made on behalf of the Trump transition were they not?  Garrett asked. Spicer, of course, told him that Trump isn t responsible for anything that happened before January 20 even if it was done by a member of the Trump transition team. When?  Spicer asked.  We started this administration on Jan. 20. All the information that they re talking about occurred prior to him being at the White House. Working for the transition!  Garrett pressed. Not at the White House!  Spicer snapped.  Everything that is being questioned occurred prior to Jan. 20th. Trump and his White House are absolutely responsible for Flynn   which is not good, as even Hillary Clinton witch hunter, Congressman Jason Chaffetz, admits that Flynn likely committed crimes.Watch this all happen below:Featured image via screengrab\",\n          \"Republicans are desperately trying to convince America that Hillary Clinton can t be trusted with national security, but they conveniently ignore how they have put our nation in danger themselves.Once again, Republicans are obsessed with Hilary Clinton s private emails after the FBI declined to charge her with any of the imaginary crimes Republicans think she committed.So they are interrogating FBI Director James Comey over the decision because they didn t get their way.However, it should be pointed out that this whole  scandal  is just another manufactured persecution effort designed to sabotage the election prospects of their main opponent in the presidential election.According to Slate, Hillary Clinton did not even come close to compromising national security because even if Russia had hacked her private server the information gleaned would have been of little interest.Seven of the eight email chains dealt with CIA drone strikes, which are classified top secret/special access program .Everyone in the world knows about these strikes; nongovernment organizations, such as New America, tabulate them; newspapers around the world including the New York Times, where some of the same reporters are now writing so breathlessly about Clinton s careless handling of classified information cover these strikes routinely.The other top secret email chain described a conversation with the president of Malawi. Conversations with foreign leaders are inherently classified.In other words, even if terrorists had hacked Clinton s server they would not have learned anything they couldn t have learned from simply picking up a newspaper.Furthermore, the House Republicans conducting these witch hunts have actually put national security at risk AND they also use private emails.As it turns out, Rep. Jason Chaffetz and Rep. Trey Gowdy also use private emails.Alternet reports that Chaffetz uses his private email address on his business card instead of his official government email address and Trey Gowdy also uses his website email address.Here s an image of Chaffetz s business card.Gowdy even outed a CIA operative by releasing documents to the public as he was investigating Clinton for somehow exposing our national security to outside risks. I don t recall him ever calling for himself to be investigated for that.Alternet tried reaching Gowdy for comment but he ignored the request which means he refuses to discuss his own private email uses. It s true that there are legitimate issues with Clinton failing to segregate work and personal email,  Alternet conceded.  But it s troubling that Members of Congress handling sensitive investigations into national security matters such as the Benghazi incident don t appear to be willing to be transparent about their own email practices. Indeed, Congressional Republicans are not the only hypocrites when it comes to emails. Former Secretaries of State Condoleezza Rice and Colin Powell also used private emails and received classified information on them when they worked in the Bush Administration. And let s not forget the millions of emails that the Bush White House deleted.Clearly, there is a double standard here. Apparently, Republicans have no problem putting national security at risk with their own failure to keep classified information off of private email servers but when a Democrat does it they immediately pounce as if it has never been done before. They declare that it s some major  scandal  even as they are doing the same thing.If Republicans want Hillary Clinton to be arrested so much, they should voluntarily turn themselves in to FBI custody for doing the same thing and much worse. That means President Bush, Karl Rove, Condoleezza Rice, Colin Powell, Trey Gowdy, and Jason Chaffetz should all be slapped with shiny metal bracelets. But we all know that Republicans won t do that.Featured Image: Flickr/Flickr\",\n          \"Pure gold The ultimate Race-Baiter-In-Chief, just got called out for the phony that he is. While we re on the topic of Obama pretending to care about the black community, let s talk about how black unemployment has skyrocketed under this fraud Race hustlers Civil rights activists met at the White House on Thursday with President Barack Obama, though a leader from Black Lives Matter, who was listed as an expected attendee, blasted the White House for organizing a photo-op without addressing real problems for minority communities. I could not, with any integrity, participate in such a sham that would only serve to legitimize the false narrative that the government is working to end police brutality and the institutional racism that fuels it,  wrote Aislinn Pulley, a leader of Black Lives Matter Chicago who the White House said on Wednesday would be at the meeting.Other attendees included Deshaunya Ware, a student leader of the University of Missouri protest group Concerned Student 1950; Al Sharpton, president of the National Action Network; NAACP President Cornell Brooks; and National Urban League leader Marc Morial.In an op-ed on Truthout, Pulley said she  respectfully declined  the White House s invitation to attend the panel, which was organized as part of the administration s marking of Black History Month. I was under the impression that a meeting was being organized to facilitate a genuine exchange on the matters facing millions of Black and Brown people in the United States. Instead, what was arranged was basically a photo opportunity and a 90-second sound bite for the president,  Pulley wrote.Obama didn t address the absence when he spoke to reporters after the meeting, instead saying he was  encouraged by the degree of focus and seriousness and constructiveness that exists not only with existing civil rights organizations but with this new generation. They are some serious young people. I told them they are much better organizers than I was when I was their age. I am confident they will take America to new heights,  he said.Later Thursday, a senior administration official said Obama, Attorney General Loretta Lynch and members of the Obama administration had a  productive dialogue with civil rights leaders about a range of important issues like the criminal justice system, education, the economy and building trust between law enforcement and the communities they serve. We will continue to engage with the many organizations and individuals who chose to participate in this meeting in ongoing discussions about how to strengthen our communities and move our country forward,  the official said.Speaking in the White House driveway after meeting with Obama, Sharpton said the group discussed the ongoing fight over naming a replacement for the late Supreme Court Justice Antonin Scalia. He said any GOP-led effort in the Senate to scuttle a presidential Supreme Court nominee would reflect a  civil rights violation. To act as if the President is anything less than the President of the United States until January 20, 2017. He cannot be minimized, marginalized or disregarded without doing the same to the American people,  Sharpton said.Obama has defended the groups that sprung from high-profile incidents of police killings of unarmed black men. He said in October those communities  grievances must be taken seriously, and pushed back on the notion that organizations like Black Lives Matter are anti-police. I think everybody understands all lives matter. I think the reason that the organizers used the phrase  Black Lives Matter  was not because they were suggesting nobody else s lives matter,  Obama said at an event in October. Rather, what they were suggesting was there is a specific problem that s happening in the African-American community that s not happening in other communities   and that is a legitimate issue that we ve got to address,  he said. Via: CNN\"\n        ],\n        \"semantic_type\": \"\",\n        \"description\": \"\"\n      }\n    },\n    {\n      \"column\": \"label\",\n      \"properties\": {\n        \"dtype\": \"number\",\n        \"std\": 0,\n        \"min\": 0,\n        \"max\": 1,\n        \"num_unique_values\": 2,\n        \"samples\": [\n          1,\n          0\n        ],\n        \"semantic_type\": \"\",\n        \"description\": \"\"\n      }\n    },\n    {\n      \"column\": \"clean_news\",\n      \"properties\": {\n        \"dtype\": \"string\",\n        \"num_unique_values\": 38536,\n        \"samples\": [\n          \"hour one msnbc morning show began typically enough mika joe assembled gang could barely contain glee prospect damning testimony james comey set stage typical mika brzezinski tirade honestly one disgusting assault president trump yet unhinged hate think trump narcissist possible mentally ill way table said month ago everyone starting say like new ok say well said least well narcissistic believe rule apply him ignorance label may apply man say grab woman anywhere famous something curious happenedscarborough looked camera heard saying that wow willie geist showed something two started laughing clearly listening scarborough banged table stop right there laughed need eject button posted it scarborough appeared ask someone elsebrzezinski finally realized nobody listening demanded explanation nothing said crazy said talk break said scarborough barely able get laugherthe show soon went break returned scarborough joked keeping guard rail brzezinski appeared offer explanation action keeping guard rail everything said thought know said way going talk filter snapped scarborough yes said\",\n          \"washington reuters top u military officer told senate thursday would harm morale u force order carry activity waterboarding targeting civilian option previously cited leading republican presidential candidate donald trump marine general joseph dunford chairman joint chief staff comment u politics trump name come question put senator lindsey graham dunfords response however asked graham former 2016 white house contender frequent trump critic impact tactic would morale force dunford said those kind activity described inconsistent value nation quite frankly think would adverse effect citing fallout morale force and frankly suggesting thing actually arent legal anyway dunford added campaign trump indicated that elected president might order u military break law interrogation tactic including waterboarding trump also suggested willingness target family terrorist suspect trump republican frontrunner softened stance torture earlier march saying would order u military break international law treat terrorism suspect waterboarding practice pouring water someone face mimic drowning interrogation tactic critic say torture democratic president barack obama banned use method day taking office 2009\"\n        ],\n        \"semantic_type\": \"\",\n        \"description\": \"\"\n      }\n    }\n  ]\n}"
            }
          },
          "metadata": {},
          "execution_count": 7
        }
      ],
      "source": [
        "df.head()"
      ]
    },
    {
      "cell_type": "code",
      "execution_count": null,
      "metadata": {
        "id": "EXcqNC7TwhwM",
        "colab": {
          "base_uri": "https://localhost:8080/"
        },
        "outputId": "8a1968d2-ec1d-4afa-a4e1-0b9f69fc6531"
      },
      "outputs": [
        {
          "output_type": "execute_result",
          "data": {
            "text/plain": [
              "(42328,)"
            ]
          },
          "metadata": {},
          "execution_count": 8
        }
      ],
      "source": [
        "df['clean_news'].shape"
      ]
    },
    {
      "cell_type": "markdown",
      "metadata": {
        "id": "H8Xdk-FJwhwM"
      },
      "source": [
        "**Create Word Embeddings**"
      ]
    },
    {
      "cell_type": "code",
      "execution_count": null,
      "metadata": {
        "id": "HHdG5xJlwhwN"
      },
      "outputs": [],
      "source": [
        "from tensorflow.keras.preprocessing.text import Tokenizer\n",
        "import numpy as np\n",
        "from keras.preprocessing.sequence import pad_sequences"
      ]
    },
    {
      "cell_type": "code",
      "execution_count": null,
      "metadata": {
        "colab": {
          "base_uri": "https://localhost:8080/"
        },
        "id": "GA3bK2b3whwN",
        "outputId": "4811003d-85b3-49a4-c8fd-df737c064018"
      },
      "outputs": [
        {
          "output_type": "stream",
          "name": "stdout",
          "text": [
            "Total Unique words are  215390\n"
          ]
        }
      ],
      "source": [
        "tokenizer = Tokenizer()\n",
        "# convert data-text into single word\n",
        "tokenizer.fit_on_texts(df['clean_news'])\n",
        "# word_index(Vocabulary of corpus) a dictionary with word and their index\n",
        "word_index = tokenizer.word_index\n",
        "print('Total Unique words are ',len(word_index))"
      ]
    },
    {
      "cell_type": "code",
      "execution_count": null,
      "metadata": {
        "id": "57fFJpDwwhwN"
      },
      "outputs": [],
      "source": [
        "# padding data to make all text rows with same length\n",
        "sequences = tokenizer.texts_to_sequences(df['clean_news'])\n",
        "# padding='post' - to make same length text(news) adding extra 0 at end of the text\n",
        "# truncating='post' -(default) after making len of 10000 truncate those words whose has more len than 10000 at end\n",
        "padded_seq = pad_sequences(sequences, maxlen=10000, padding='post')"
      ]
    },
    {
      "cell_type": "code",
      "execution_count": null,
      "metadata": {
        "id": "4-SgfUwswhwN"
      },
      "outputs": [],
      "source": [
        "# Create embedding index\n",
        "# a dictionary - key as word, value as vector form of that word\n",
        "embedding_index = {}\n",
        "with open('/content/drive/MyDrive/Fake News Detection Dataset/glove.6B.100d.txt', 'r', encoding='utf-8') as f:\n",
        "    for line in f:\n",
        "        arr = line.split()\n",
        "        word = arr[0]\n",
        "        coefs = np.asarray(arr[1:], dtype='float32')\n",
        "        embedding_index[word] = coefs\n"
      ]
    },
    {
      "cell_type": "code",
      "execution_count": null,
      "metadata": {
        "colab": {
          "base_uri": "https://localhost:8080/"
        },
        "id": "tSNEb_T9whwN",
        "outputId": "32857a22-4343-4138-c17f-71115a760c13"
      },
      "outputs": [
        {
          "output_type": "execute_result",
          "data": {
            "text/plain": [
              "400000"
            ]
          },
          "metadata": {},
          "execution_count": 10
        }
      ],
      "source": [
        "len(embedding_index)"
      ]
    },
    {
      "cell_type": "code",
      "execution_count": null,
      "metadata": {
        "id": "R2kMM_bBwhwO"
      },
      "outputs": [],
      "source": [
        "# Create embedding matrix\n",
        "# 2D array - every word which comes in Vocabulary(word_index- word with index) are coverted into vector form and saved.\n",
        "embedding_matrix = np.zeros((len(word_index)+1, 100))\n",
        "for word, index in word_index.items():\n",
        "    embedding_vector = embedding_index.get(word)\n",
        "    if embedding_vector is not None:\n",
        "        embedding_matrix[index] = embedding_vector"
      ]
    },
    {
      "cell_type": "code",
      "execution_count": null,
      "metadata": {
        "colab": {
          "base_uri": "https://localhost:8080/"
        },
        "id": "RDEwJ38EwhwO",
        "outputId": "2c2f0e7a-744c-4dba-f2ad-015d38d97d7c"
      },
      "outputs": [
        {
          "output_type": "execute_result",
          "data": {
            "text/plain": [
              "(215391, 100)"
            ]
          },
          "metadata": {},
          "execution_count": 12
        }
      ],
      "source": [
        "embedding_matrix.shape"
      ]
    },
    {
      "cell_type": "code",
      "execution_count": null,
      "metadata": {
        "colab": {
          "base_uri": "https://localhost:8080/"
        },
        "id": "V_aCyF_jwhwO",
        "outputId": "59ebd9c0-4811-42a8-f7d0-bb33ca4436c2"
      },
      "outputs": [
        {
          "output_type": "execute_result",
          "data": {
            "text/plain": [
              "array([-0.13128   , -0.45199999,  0.043399  , -0.99798   , -0.21053   ,\n",
              "       -0.95867997, -0.24608999,  0.48413   ,  0.18178   ,  0.47499999,\n",
              "       -0.22305   ,  0.30063999,  0.43496001, -0.36050001,  0.20245001,\n",
              "       -0.52594   , -0.34707999,  0.0075873 , -1.04970002,  0.18673   ,\n",
              "        0.57369   ,  0.43814   ,  0.098659  ,  0.38769999, -0.22579999,\n",
              "        0.41911   ,  0.043602  , -0.73519999, -0.53583002,  0.19276001,\n",
              "       -0.21961001,  0.42515001, -0.19081999,  0.47187001,  0.18826   ,\n",
              "        0.13357   ,  0.41839001,  1.31379998,  0.35677999, -0.32172   ,\n",
              "       -1.22570002, -0.26635   ,  0.36715999, -0.27586001, -0.53245997,\n",
              "        0.16786   , -0.11253   , -0.99958998, -0.60706002, -0.89270997,\n",
              "        0.65156001, -0.88783997,  0.049233  ,  0.67110997, -0.27553001,\n",
              "       -2.40050006, -0.36989   ,  0.29135999,  1.34979999,  1.73529994,\n",
              "        0.27000001,  0.021299  ,  0.14421999,  0.023784  ,  0.33643001,\n",
              "       -0.35475999,  1.09210002,  1.48450005,  0.49430001,  0.15688001,\n",
              "        0.34678999, -0.57221001,  0.12093   , -1.26160002,  1.05410004,\n",
              "        0.064335  , -0.002732  ,  0.19038001, -1.76429999,  0.055068  ,\n",
              "        1.47370005, -0.41782001, -0.57341999, -0.12129   , -1.31690001,\n",
              "       -0.73882997,  0.17682   , -0.019991  , -0.49175999, -0.55247003,\n",
              "        1.06229997, -0.62879002,  0.29098001,  0.13237999, -0.70414001,\n",
              "        0.67128003, -0.085462  , -0.30526   , -0.045495  ,  0.56509   ])"
            ]
          },
          "metadata": {},
          "execution_count": 13
        }
      ],
      "source": [
        "embedding_matrix[1]"
      ]
    },
    {
      "cell_type": "code",
      "execution_count": null,
      "metadata": {
        "colab": {
          "base_uri": "https://localhost:8080/"
        },
        "id": "Zb_Y_3BzwhwO",
        "outputId": "ead94fbb-fc93-4bdc-b10b-7382a1484151"
      },
      "outputs": [
        {
          "output_type": "execute_result",
          "data": {
            "text/plain": [
              "(42328, 10000)"
            ]
          },
          "metadata": {},
          "execution_count": 14
        }
      ],
      "source": [
        "padded_seq.shape"
      ]
    },
    {
      "cell_type": "code",
      "execution_count": null,
      "metadata": {
        "colab": {
          "base_uri": "https://localhost:8080/"
        },
        "id": "CxXzXXqI7EDT",
        "outputId": "988aa1f0-9df2-4a00-9121-32f9495e02ad"
      },
      "outputs": [
        {
          "output_type": "execute_result",
          "data": {
            "text/plain": [
              "array([  14,    2, 1744, ...,    0,    0,    0], dtype=int32)"
            ]
          },
          "metadata": {},
          "execution_count": 15
        }
      ],
      "source": [
        "padded_seq[0]"
      ]
    },
    {
      "cell_type": "markdown",
      "metadata": {
        "id": "IgZu9RaTwhwO"
      },
      "source": [
        "# Splitting DataFrame"
      ]
    },
    {
      "cell_type": "code",
      "execution_count": null,
      "metadata": {
        "colab": {
          "base_uri": "https://localhost:8080/"
        },
        "id": "FnW0tJxxwhwO",
        "outputId": "6549f2e1-480b-4df9-c45f-fde84797bc22"
      },
      "outputs": [
        {
          "output_type": "stream",
          "name": "stdout",
          "text": [
            "(33862, 10000) (8466, 10000)\n",
            "(33862,) (8466,)\n"
          ]
        }
      ],
      "source": [
        "from sklearn.model_selection import train_test_split\n",
        "# Splitting datasets into Train and Test\n",
        "x_train, x_test, y_train, y_test = train_test_split(padded_seq, df['label'], test_size=0.2, random_state=42, stratify=df['label'])\n",
        "print(x_train.shape, x_test.shape)\n",
        "print(y_train.shape, y_test.shape)"
      ]
    },
    {
      "cell_type": "markdown",
      "metadata": {
        "id": "Fih0fDO0whwO"
      },
      "source": [
        "# Model Building"
      ]
    },
    {
      "cell_type": "code",
      "execution_count": null,
      "metadata": {
        "id": "yu4kcklCwhwO"
      },
      "outputs": [],
      "source": [
        "from tensorflow.keras.models import Sequential\n",
        "from tensorflow.keras.layers import LSTM, Dense, Embedding, Dropout\n",
        "from tensorflow.keras.optimizers import Adam"
      ]
    },
    {
      "cell_type": "code",
      "execution_count": null,
      "metadata": {
        "colab": {
          "base_uri": "https://localhost:8080/",
          "height": 408
        },
        "id": "CLSu7oiDwhwO",
        "outputId": "458d9fd3-6e53-494f-a941-767f9985b1fc"
      },
      "outputs": [
        {
          "output_type": "stream",
          "name": "stderr",
          "text": [
            "/usr/local/lib/python3.10/dist-packages/keras/src/layers/core/embedding.py:93: UserWarning: Do not pass an `input_shape`/`input_dim` argument to a layer. When using Sequential models, prefer using an `Input(shape)` object as the first layer in the model instead.\n",
            "  super().__init__(**kwargs)\n"
          ]
        },
        {
          "output_type": "display_data",
          "data": {
            "text/plain": [
              "\u001b[1mModel: \"sequential\"\u001b[0m\n"
            ],
            "text/html": [
              "<pre style=\"white-space:pre;overflow-x:auto;line-height:normal;font-family:Menlo,'DejaVu Sans Mono',consolas,'Courier New',monospace\"><span style=\"font-weight: bold\">Model: \"sequential\"</span>\n",
              "</pre>\n"
            ]
          },
          "metadata": {}
        },
        {
          "output_type": "display_data",
          "data": {
            "text/plain": [
              "┏━━━━━━━━━━━━━━━━━━━━━━━━━━━━━━━━━━━━━━┳━━━━━━━━━━━━━━━━━━━━━━━━━━━━━┳━━━━━━━━━━━━━━━━━┓\n",
              "┃\u001b[1m \u001b[0m\u001b[1mLayer (type)                        \u001b[0m\u001b[1m \u001b[0m┃\u001b[1m \u001b[0m\u001b[1mOutput Shape               \u001b[0m\u001b[1m \u001b[0m┃\u001b[1m \u001b[0m\u001b[1m        Param #\u001b[0m\u001b[1m \u001b[0m┃\n",
              "┡━━━━━━━━━━━━━━━━━━━━━━━━━━━━━━━━━━━━━━╇━━━━━━━━━━━━━━━━━━━━━━━━━━━━━╇━━━━━━━━━━━━━━━━━┩\n",
              "│ embedding (\u001b[38;5;33mEmbedding\u001b[0m)                │ (\u001b[38;5;45mNone\u001b[0m, \u001b[38;5;34m10000\u001b[0m, \u001b[38;5;34m100\u001b[0m)          │      \u001b[38;5;34m21,539,100\u001b[0m │\n",
              "├──────────────────────────────────────┼─────────────────────────────┼─────────────────┤\n",
              "│ lstm (\u001b[38;5;33mLSTM\u001b[0m)                          │ (\u001b[38;5;45mNone\u001b[0m, \u001b[38;5;34m10000\u001b[0m, \u001b[38;5;34m512\u001b[0m)          │       \u001b[38;5;34m1,255,424\u001b[0m │\n",
              "├──────────────────────────────────────┼─────────────────────────────┼─────────────────┤\n",
              "│ lstm_1 (\u001b[38;5;33mLSTM\u001b[0m)                        │ (\u001b[38;5;45mNone\u001b[0m, \u001b[38;5;34m256\u001b[0m)                 │         \u001b[38;5;34m787,456\u001b[0m │\n",
              "├──────────────────────────────────────┼─────────────────────────────┼─────────────────┤\n",
              "│ dropout (\u001b[38;5;33mDropout\u001b[0m)                    │ (\u001b[38;5;45mNone\u001b[0m, \u001b[38;5;34m256\u001b[0m)                 │               \u001b[38;5;34m0\u001b[0m │\n",
              "├──────────────────────────────────────┼─────────────────────────────┼─────────────────┤\n",
              "│ dense (\u001b[38;5;33mDense\u001b[0m)                        │ (\u001b[38;5;45mNone\u001b[0m, \u001b[38;5;34m128\u001b[0m)                 │          \u001b[38;5;34m32,896\u001b[0m │\n",
              "├──────────────────────────────────────┼─────────────────────────────┼─────────────────┤\n",
              "│ dropout_1 (\u001b[38;5;33mDropout\u001b[0m)                  │ (\u001b[38;5;45mNone\u001b[0m, \u001b[38;5;34m128\u001b[0m)                 │               \u001b[38;5;34m0\u001b[0m │\n",
              "├──────────────────────────────────────┼─────────────────────────────┼─────────────────┤\n",
              "│ dense_1 (\u001b[38;5;33mDense\u001b[0m)                      │ (\u001b[38;5;45mNone\u001b[0m, \u001b[38;5;34m1\u001b[0m)                   │             \u001b[38;5;34m129\u001b[0m │\n",
              "└──────────────────────────────────────┴─────────────────────────────┴─────────────────┘\n"
            ],
            "text/html": [
              "<pre style=\"white-space:pre;overflow-x:auto;line-height:normal;font-family:Menlo,'DejaVu Sans Mono',consolas,'Courier New',monospace\">┏━━━━━━━━━━━━━━━━━━━━━━━━━━━━━━━━━━━━━━┳━━━━━━━━━━━━━━━━━━━━━━━━━━━━━┳━━━━━━━━━━━━━━━━━┓\n",
              "┃<span style=\"font-weight: bold\"> Layer (type)                         </span>┃<span style=\"font-weight: bold\"> Output Shape                </span>┃<span style=\"font-weight: bold\">         Param # </span>┃\n",
              "┡━━━━━━━━━━━━━━━━━━━━━━━━━━━━━━━━━━━━━━╇━━━━━━━━━━━━━━━━━━━━━━━━━━━━━╇━━━━━━━━━━━━━━━━━┩\n",
              "│ embedding (<span style=\"color: #0087ff; text-decoration-color: #0087ff\">Embedding</span>)                │ (<span style=\"color: #00d7ff; text-decoration-color: #00d7ff\">None</span>, <span style=\"color: #00af00; text-decoration-color: #00af00\">10000</span>, <span style=\"color: #00af00; text-decoration-color: #00af00\">100</span>)          │      <span style=\"color: #00af00; text-decoration-color: #00af00\">21,539,100</span> │\n",
              "├──────────────────────────────────────┼─────────────────────────────┼─────────────────┤\n",
              "│ lstm (<span style=\"color: #0087ff; text-decoration-color: #0087ff\">LSTM</span>)                          │ (<span style=\"color: #00d7ff; text-decoration-color: #00d7ff\">None</span>, <span style=\"color: #00af00; text-decoration-color: #00af00\">10000</span>, <span style=\"color: #00af00; text-decoration-color: #00af00\">512</span>)          │       <span style=\"color: #00af00; text-decoration-color: #00af00\">1,255,424</span> │\n",
              "├──────────────────────────────────────┼─────────────────────────────┼─────────────────┤\n",
              "│ lstm_1 (<span style=\"color: #0087ff; text-decoration-color: #0087ff\">LSTM</span>)                        │ (<span style=\"color: #00d7ff; text-decoration-color: #00d7ff\">None</span>, <span style=\"color: #00af00; text-decoration-color: #00af00\">256</span>)                 │         <span style=\"color: #00af00; text-decoration-color: #00af00\">787,456</span> │\n",
              "├──────────────────────────────────────┼─────────────────────────────┼─────────────────┤\n",
              "│ dropout (<span style=\"color: #0087ff; text-decoration-color: #0087ff\">Dropout</span>)                    │ (<span style=\"color: #00d7ff; text-decoration-color: #00d7ff\">None</span>, <span style=\"color: #00af00; text-decoration-color: #00af00\">256</span>)                 │               <span style=\"color: #00af00; text-decoration-color: #00af00\">0</span> │\n",
              "├──────────────────────────────────────┼─────────────────────────────┼─────────────────┤\n",
              "│ dense (<span style=\"color: #0087ff; text-decoration-color: #0087ff\">Dense</span>)                        │ (<span style=\"color: #00d7ff; text-decoration-color: #00d7ff\">None</span>, <span style=\"color: #00af00; text-decoration-color: #00af00\">128</span>)                 │          <span style=\"color: #00af00; text-decoration-color: #00af00\">32,896</span> │\n",
              "├──────────────────────────────────────┼─────────────────────────────┼─────────────────┤\n",
              "│ dropout_1 (<span style=\"color: #0087ff; text-decoration-color: #0087ff\">Dropout</span>)                  │ (<span style=\"color: #00d7ff; text-decoration-color: #00d7ff\">None</span>, <span style=\"color: #00af00; text-decoration-color: #00af00\">128</span>)                 │               <span style=\"color: #00af00; text-decoration-color: #00af00\">0</span> │\n",
              "├──────────────────────────────────────┼─────────────────────────────┼─────────────────┤\n",
              "│ dense_1 (<span style=\"color: #0087ff; text-decoration-color: #0087ff\">Dense</span>)                      │ (<span style=\"color: #00d7ff; text-decoration-color: #00d7ff\">None</span>, <span style=\"color: #00af00; text-decoration-color: #00af00\">1</span>)                   │             <span style=\"color: #00af00; text-decoration-color: #00af00\">129</span> │\n",
              "└──────────────────────────────────────┴─────────────────────────────┴─────────────────┘\n",
              "</pre>\n"
            ]
          },
          "metadata": {}
        },
        {
          "output_type": "display_data",
          "data": {
            "text/plain": [
              "\u001b[1m Total params: \u001b[0m\u001b[38;5;34m23,615,005\u001b[0m (90.08 MB)\n"
            ],
            "text/html": [
              "<pre style=\"white-space:pre;overflow-x:auto;line-height:normal;font-family:Menlo,'DejaVu Sans Mono',consolas,'Courier New',monospace\"><span style=\"font-weight: bold\"> Total params: </span><span style=\"color: #00af00; text-decoration-color: #00af00\">23,615,005</span> (90.08 MB)\n",
              "</pre>\n"
            ]
          },
          "metadata": {}
        },
        {
          "output_type": "display_data",
          "data": {
            "text/plain": [
              "\u001b[1m Trainable params: \u001b[0m\u001b[38;5;34m23,615,005\u001b[0m (90.08 MB)\n"
            ],
            "text/html": [
              "<pre style=\"white-space:pre;overflow-x:auto;line-height:normal;font-family:Menlo,'DejaVu Sans Mono',consolas,'Courier New',monospace\"><span style=\"font-weight: bold\"> Trainable params: </span><span style=\"color: #00af00; text-decoration-color: #00af00\">23,615,005</span> (90.08 MB)\n",
              "</pre>\n"
            ]
          },
          "metadata": {}
        },
        {
          "output_type": "display_data",
          "data": {
            "text/plain": [
              "\u001b[1m Non-trainable params: \u001b[0m\u001b[38;5;34m0\u001b[0m (0.00 B)\n"
            ],
            "text/html": [
              "<pre style=\"white-space:pre;overflow-x:auto;line-height:normal;font-family:Menlo,'DejaVu Sans Mono',consolas,'Courier New',monospace\"><span style=\"font-weight: bold\"> Non-trainable params: </span><span style=\"color: #00af00; text-decoration-color: #00af00\">0</span> (0.00 B)\n",
              "</pre>\n"
            ]
          },
          "metadata": {}
        }
      ],
      "source": [
        "model = Sequential([\n",
        "# input_dim - vocabulary size, output_dim - sequence_length of word after vectorize, weights-pre\n",
        "# vectorize word values (vocabulary_size, embedding_dimension), mask_zero - extra zeroes are dropped not counted\n",
        "# input_shape - no of words in 1 row\n",
        "    Embedding(input_dim=len(word_index)+1, output_dim=100, weights=embedding_matrix ,mask_zero=True, input_shape=(10000, )),\n",
        "# return seq - True - for 2 consecutive LSTM layer\n",
        "    LSTM(units=512, return_sequences=True, activation='tanh'),\n",
        "    LSTM(units=256, activation='tanh'),\n",
        "    Dropout(rate=0.2),\n",
        "# activation - binary classification problem only check probability about news that is fake or True\n",
        "    Dense(units=128, activation='relu'),\n",
        "    Dropout(rate=0.2),\n",
        "    Dense(units=1, activation='sigmoid')\n",
        "    ])\n",
        "\n",
        "model.compile(optimizer=Adam(learning_rate=0.001),\n",
        "                    loss='binary_crossentropy',\n",
        "                    metrics=['accuracy'])\n",
        "model.summary()"
      ]
    },
    {
      "cell_type": "code",
      "execution_count": null,
      "metadata": {
        "colab": {
          "base_uri": "https://localhost:8080/"
        },
        "id": "PHavn8EqwhwP",
        "outputId": "3aec0e5c-87ae-43bc-cc9e-b0410bb61b06"
      },
      "outputs": [
        {
          "output_type": "stream",
          "name": "stdout",
          "text": [
            "Epoch 1/20\n",
            "\u001b[1m847/847\u001b[0m \u001b[32m━━━━━━━━━━━━━━━━━━━━\u001b[0m\u001b[37m\u001b[0m \u001b[1m129s\u001b[0m 145ms/step - accuracy: 0.8975 - loss: 0.2424 - val_accuracy: 0.9584 - val_loss: 0.1233\n",
            "Epoch 2/20\n",
            "\u001b[1m847/847\u001b[0m \u001b[32m━━━━━━━━━━━━━━━━━━━━\u001b[0m\u001b[37m\u001b[0m \u001b[1m138s\u001b[0m 145ms/step - accuracy: 0.9870 - loss: 0.0396 - val_accuracy: 0.9972 - val_loss: 0.0102\n",
            "Epoch 3/20\n",
            "\u001b[1m847/847\u001b[0m \u001b[32m━━━━━━━━━━━━━━━━━━━━\u001b[0m\u001b[37m\u001b[0m \u001b[1m142s\u001b[0m 145ms/step - accuracy: 0.9990 - loss: 0.0056 - val_accuracy: 0.9979 - val_loss: 0.0079\n",
            "Epoch 4/20\n",
            "\u001b[1m847/847\u001b[0m \u001b[32m━━━━━━━━━━━━━━━━━━━━\u001b[0m\u001b[37m\u001b[0m \u001b[1m142s\u001b[0m 145ms/step - accuracy: 0.9991 - loss: 0.0034 - val_accuracy: 0.9969 - val_loss: 0.0099\n",
            "Epoch 5/20\n",
            "\u001b[1m847/847\u001b[0m \u001b[32m━━━━━━━━━━━━━━━━━━━━\u001b[0m\u001b[37m\u001b[0m \u001b[1m122s\u001b[0m 144ms/step - accuracy: 0.9971 - loss: 0.0087 - val_accuracy: 0.9968 - val_loss: 0.0132\n",
            "Epoch 6/20\n",
            "\u001b[1m847/847\u001b[0m \u001b[32m━━━━━━━━━━━━━━━━━━━━\u001b[0m\u001b[37m\u001b[0m \u001b[1m142s\u001b[0m 145ms/step - accuracy: 0.9982 - loss: 0.0081 - val_accuracy: 0.9978 - val_loss: 0.0082\n",
            "Epoch 7/20\n",
            "\u001b[1m847/847\u001b[0m \u001b[32m━━━━━━━━━━━━━━━━━━━━\u001b[0m\u001b[37m\u001b[0m \u001b[1m142s\u001b[0m 145ms/step - accuracy: 0.9998 - loss: 7.2559e-04 - val_accuracy: 0.9965 - val_loss: 0.0202\n",
            "Epoch 8/20\n",
            "\u001b[1m847/847\u001b[0m \u001b[32m━━━━━━━━━━━━━━━━━━━━\u001b[0m\u001b[37m\u001b[0m \u001b[1m142s\u001b[0m 144ms/step - accuracy: 1.0000 - loss: 2.0075e-04 - val_accuracy: 0.9972 - val_loss: 0.0152\n",
            "Epoch 9/20\n",
            "\u001b[1m847/847\u001b[0m \u001b[32m━━━━━━━━━━━━━━━━━━━━\u001b[0m\u001b[37m\u001b[0m \u001b[1m142s\u001b[0m 145ms/step - accuracy: 0.9998 - loss: 6.0672e-04 - val_accuracy: 0.9984 - val_loss: 0.0107\n",
            "Epoch 10/20\n",
            "\u001b[1m847/847\u001b[0m \u001b[32m━━━━━━━━━━━━━━━━━━━━\u001b[0m\u001b[37m\u001b[0m \u001b[1m142s\u001b[0m 145ms/step - accuracy: 1.0000 - loss: 9.8911e-05 - val_accuracy: 0.9981 - val_loss: 0.0109\n",
            "Epoch 11/20\n",
            "\u001b[1m847/847\u001b[0m \u001b[32m━━━━━━━━━━━━━━━━━━━━\u001b[0m\u001b[37m\u001b[0m \u001b[1m123s\u001b[0m 145ms/step - accuracy: 1.0000 - loss: 9.5000e-06 - val_accuracy: 0.9984 - val_loss: 0.0119\n",
            "Epoch 12/20\n",
            "\u001b[1m847/847\u001b[0m \u001b[32m━━━━━━━━━━━━━━━━━━━━\u001b[0m\u001b[37m\u001b[0m \u001b[1m122s\u001b[0m 144ms/step - accuracy: 1.0000 - loss: 3.7609e-06 - val_accuracy: 0.9984 - val_loss: 0.0129\n",
            "Epoch 13/20\n",
            "\u001b[1m847/847\u001b[0m \u001b[32m━━━━━━━━━━━━━━━━━━━━\u001b[0m\u001b[37m\u001b[0m \u001b[1m122s\u001b[0m 144ms/step - accuracy: 1.0000 - loss: 4.8199e-06 - val_accuracy: 0.9984 - val_loss: 0.0135\n",
            "Epoch 14/20\n",
            "\u001b[1m847/847\u001b[0m \u001b[32m━━━━━━━━━━━━━━━━━━━━\u001b[0m\u001b[37m\u001b[0m \u001b[1m142s\u001b[0m 145ms/step - accuracy: 1.0000 - loss: 6.0972e-07 - val_accuracy: 0.9984 - val_loss: 0.0143\n",
            "Epoch 15/20\n",
            "\u001b[1m847/847\u001b[0m \u001b[32m━━━━━━━━━━━━━━━━━━━━\u001b[0m\u001b[37m\u001b[0m \u001b[1m142s\u001b[0m 145ms/step - accuracy: 1.0000 - loss: 3.9048e-07 - val_accuracy: 0.9984 - val_loss: 0.0150\n",
            "Epoch 16/20\n",
            "\u001b[1m847/847\u001b[0m \u001b[32m━━━━━━━━━━━━━━━━━━━━\u001b[0m\u001b[37m\u001b[0m \u001b[1m141s\u001b[0m 144ms/step - accuracy: 1.0000 - loss: 1.6371e-07 - val_accuracy: 0.9984 - val_loss: 0.0156\n",
            "Epoch 17/20\n",
            "\u001b[1m847/847\u001b[0m \u001b[32m━━━━━━━━━━━━━━━━━━━━\u001b[0m\u001b[37m\u001b[0m \u001b[1m142s\u001b[0m 144ms/step - accuracy: 1.0000 - loss: 1.1858e-07 - val_accuracy: 0.9979 - val_loss: 0.0162\n",
            "Epoch 18/20\n",
            "\u001b[1m847/847\u001b[0m \u001b[32m━━━━━━━━━━━━━━━━━━━━\u001b[0m\u001b[37m\u001b[0m \u001b[1m142s\u001b[0m 144ms/step - accuracy: 1.0000 - loss: 1.4470e-07 - val_accuracy: 0.9987 - val_loss: 0.0172\n",
            "Epoch 19/20\n",
            "\u001b[1m847/847\u001b[0m \u001b[32m━━━━━━━━━━━━━━━━━━━━\u001b[0m\u001b[37m\u001b[0m \u001b[1m122s\u001b[0m 144ms/step - accuracy: 1.0000 - loss: 6.0581e-08 - val_accuracy: 0.9987 - val_loss: 0.0177\n",
            "Epoch 20/20\n",
            "\u001b[1m847/847\u001b[0m \u001b[32m━━━━━━━━━━━━━━━━━━━━\u001b[0m\u001b[37m\u001b[0m \u001b[1m142s\u001b[0m 144ms/step - accuracy: 1.0000 - loss: 4.6225e-07 - val_accuracy: 0.9987 - val_loss: 0.0186\n"
          ]
        }
      ],
      "source": [
        "# train the model\n",
        "history = model.fit(x_train, y_train, epochs=20, validation_split=0.2, verbose=1)"
      ]
    },
    {
      "cell_type": "code",
      "execution_count": null,
      "metadata": {
        "colab": {
          "base_uri": "https://localhost:8080/",
          "height": 843
        },
        "id": "9lCzLUBzWqLg",
        "outputId": "7346cd7b-e762-4da5-d8f4-40aeb285522e"
      },
      "outputs": [
        {
          "output_type": "display_data",
          "data": {
            "text/plain": [
              "<Figure size 640x480 with 1 Axes>"
            ],
            "image/png": "[encoded data removed]"
          },
          "metadata": {}
        },
        {
          "output_type": "display_data",
          "data": {
            "text/plain": [
              "<Figure size 640x480 with 1 Axes>"
            ],
            "image/png": "[encoded data removed]"
          },
          "metadata": {}
        }
      ],
      "source": [
        "import matplotlib.pyplot as plt\n",
        "plt.plot(history.history['val_accuracy'], label='val_accuracy')\n",
        "plt.plot(history.history['accuracy'], label='accuracy')\n",
        "plt.legend()\n",
        "plt.show()\n",
        "\n",
        "plt.plot(history.history['val_loss'], label='val_loss')\n",
        "plt.plot(history.history['loss'], label='loss')\n",
        "plt.legend()\n",
        "plt.show()"
      ]
    },
    {
      "cell_type": "code",
      "execution_count": null,
      "metadata": {
        "colab": {
          "base_uri": "https://localhost:8080/",
          "height": 158
        },
        "id": "7qVCsFuFMMHT",
        "outputId": "db1582df-f074-4721-84c0-3b0870a8e3e2"
      },
      "outputs": [
        {
          "output_type": "error",
          "ename": "NameError",
          "evalue": "name 'model' is not defined",
          "traceback": [
            "\u001b[0;31m---------------------------------------------------------------------------\u001b[0m",
            "\u001b[0;31mNameError\u001b[0m                                 Traceback (most recent call last)",
            "\u001b[0;32m<ipython-input-3-716e4f3f1728>\u001b[0m in \u001b[0;36m<cell line: 2>\u001b[0;34m()\u001b[0m\n\u001b[1;32m      1\u001b[0m \u001b[0mpath\u001b[0m \u001b[0;34m=\u001b[0m \u001b[0;34m'/content/drive/My Drive/Model/Fake_News_Detection_LSTM_MODEL.h5'\u001b[0m\u001b[0;34m\u001b[0m\u001b[0;34m\u001b[0m\u001b[0m\n\u001b[0;32m----> 2\u001b[0;31m \u001b[0mmodel\u001b[0m\u001b[0;34m.\u001b[0m\u001b[0msave\u001b[0m\u001b[0;34m(\u001b[0m\u001b[0mpath\u001b[0m\u001b[0;34m)\u001b[0m\u001b[0;34m\u001b[0m\u001b[0;34m\u001b[0m\u001b[0m\n\u001b[0m",
            "\u001b[0;31mNameError\u001b[0m: name 'model' is not defined"
          ]
        }
      ],
      "source": [
        "path = '/content/drive/My Drive/Model/Fake_News_Detection_LSTM_MODEL.h5'\n",
        "model.save(path)"
      ]
    },
    {
      "cell_type": "code",
      "execution_count": null,
      "metadata": {
        "id": "5c3IUxV29ozd"
      },
      "outputs": [],
      "source": [
        "from tensorflow.keras.models import load_model"
      ]
    },
    {
      "cell_type": "code",
      "execution_count": null,
      "metadata": {
        "colab": {
          "base_uri": "https://localhost:8080/"
        },
        "id": "buO7mJd9SBT3",
        "outputId": "d9dea5a2-9bd4-4ee5-f2ef-feebc9ca18b3"
      },
      "outputs": [
        {
          "output_type": "stream",
          "name": "stderr",
          "text": [
            "WARNING:absl:Compiled the loaded model, but the compiled metrics have yet to be built. `model.compile_metrics` will be empty until you train or evaluate the model.\n"
          ]
        }
      ],
      "source": [
        "model = load_model('/content/drive/My Drive/Model/Fake_News_Detection_LSTM_MODEL.h5')"
      ]
    },
    {
      "cell_type": "code",
      "execution_count": null,
      "metadata": {
        "colab": {
          "base_uri": "https://localhost:8080/"
        },
        "id": "L4-UimpSSy7c",
        "outputId": "097ef1d2-ad80-4b6b-d4c2-8cd7641401dc"
      },
      "outputs": [
        {
          "output_type": "stream",
          "name": "stdout",
          "text": [
            "\u001b[1m265/265\u001b[0m \u001b[32m━━━━━━━━━━━━━━━━━━━━\u001b[0m\u001b[37m\u001b[0m \u001b[1m12s\u001b[0m 45ms/step\n"
          ]
        },
        {
          "output_type": "execute_result",
          "data": {
            "text/plain": [
              "0.9991731632412001"
            ]
          },
          "metadata": {},
          "execution_count": 29
        }
      ],
      "source": [
        "y_test_predict = model.predict(x_test)\n",
        "\n",
        "y_test_predict = np.where(y_test_predict < 0.5, 0, 1)\n",
        "y_test_predict = y_test_predict.reshape(y_test_predict.shape[0])\n",
        "from sklearn.metrics import accuracy_score\n",
        "accuracy_score(y_test, y_test_predict)\n",
        "# Test Accuracy"
      ]
    },
    {
      "cell_type": "code",
      "execution_count": null,
      "metadata": {
        "id": "aakR4gq0S-SE",
        "colab": {
          "base_uri": "https://localhost:8080/"
        },
        "outputId": "4ad7f9b5-f510-4173-85a0-2157f4111401"
      },
      "outputs": [
        {
          "output_type": "stream",
          "name": "stdout",
          "text": [
            "              precision    recall  f1-score   support\n",
            "\n",
            "           0       1.00      1.00      1.00      4227\n",
            "           1       1.00      1.00      1.00      4239\n",
            "\n",
            "    accuracy                           1.00      8466\n",
            "   macro avg       1.00      1.00      1.00      8466\n",
            "weighted avg       1.00      1.00      1.00      8466\n",
            "\n"
          ]
        }
      ],
      "source": [
        "from sklearn.metrics import classification_report\n",
        "print(classification_report(y_test, y_test_predict))"
      ]
    },
    {
      "cell_type": "code",
      "source": [],
      "metadata": {
        "id": "RTTQPYydVUBo"
      },
      "execution_count": null,
      "outputs": []
    },
    {
      "cell_type": "code",
      "source": [
        "# text = [\"Trump achieved victory in the Electoral College, winning 312 electoral votes to Harris' 226. Trump won every swing state in addition to holding on to all of the states that he won in 2020.[37][38] Trump flipped six states that had voted Democratic in 2020: Arizona, Georgia, Michigan, Nevada, Pennsylvania, and Wisconsin.[39] Trump won the national popular vote with 49.8%,[40][needs update?] making him the first Republican to do so since George W. Bush in 2004.\"]\n",
        "# text =[\"The Sambhal Shahi Jama Masjid Committee has approached the Supreme Court challenging the order passed by a trial court for the commission survey of the mosque in a suit which alleged that it was built after destroying a temple. A bench comprising Chief Justice of India Sanjiv Khanna and Justice Sanjay Kumar will hear the matter tomorrow. Last week, Civil Judge (Senior Division) of Sambhal passed an ex-parte order for a survey of the mosque by an advocate commissioner. The plaintiffs claimed th https://www.livelaw.in/top-stories/sambhal-jama-masjid-committee-approaches-supreme-court-against-survey-order-cji-led-bench-to-hear-tomorrow-276666\"]\n",
        "# text = [\"Speaking out for the first time since the fall of her government on August 5, Awami League Leader and former Prime Minister Sheikh Hasina on Thursday (November 28, 2024) called for the release of an ISKCON leader arrested by the authorities in Bangladesh ‘without delay’. In a statement issued by the Awami League, Ms. Hasina condemned the murder of an assistant public prosecutor in communal clashes in Chittagong that erupted on Tuesday, and called upon the people of Bangladesh to confront the Muhammad Yunus-led interim government in a “united” manner.\"]\n",
        "# text = ['student on war.']\n",
        "# text = [\"\"\"In the build-up to Tuesday’s US election, claims of voter fraud flooded social media - but as Donald Trump’s victory crystallised, the chatter largely subsided. The claims didn’t stop entirely, however. A number of right-wing influencers and organisations pushing stories about “cheating” and a “rigged” vote pointed to incomplete vote totals and continued to repeat discredited theories about the 2020 election.\n",
        "\n",
        "# And disappointed Democratic Party supporters developed their own unsubstantiated voter fraud theories, some of which went viral on X, formerly Twitter, and other platforms.\n",
        "\n",
        "# The reach of the posts is nowhere near the deluge of content that circulated after Trump lost the 2020 election.\n",
        "\n",
        "# And with no support from losing candidate Kamala Harris or other Democratic Party officials, the chances seem slim of a large-scale movement developing along the lines of the “Stop the Steal” drive four years ago, which culminated in a riot at the US Capitol.\"\"\"]\n",
        "\n",
        "# text = [\"\"\"In an interaction with Economic Times (ET), GitHub chief executive officer Thomas Dohmke said, “If India would slow down next year for whatever reason…, those numbers are often also dependent on things out of our control.” Dohmke added, “The overall economic environment, the demand global system integrators are seeing, the startup ecosystem, how many students come out of the colleges in the next year, the year, those (students) started in the middle of Covid... So, there are a lot of factors playing into these models.” Dohmke visited India twice this year.\n",
        "# While India's developer base continues to grow significantly, reaching 17 million in 2023, the US market, with 23.8 million developers, remains the largest. GitHub's CEO, Thomas Dohmke, expressed optimism about India's long-term potential, highlighting the country's strong startup ecosystem, growing number of tech graduates, and government support for technology initiatives.\"\"\"]\n",
        "\n",
        "text = [\"\"\"unbelievable russia collusion scam going month finger pointing everywhere trump team member specifically jared kushner donald trump jr defending meeting russian lawyer others long know nothing even cnn prof yes cnn believe itvia newsmaxthe controversial june 2016 meeting trump tower russian donald trump jr others indeed magnitsky act dishing dirt hillary clinton cnn reporteddocuments provided cnn back trump jr account jared kushner meeting insignificant waste timean attorney russian billionaire requested meeting provided document cnn suggested mixup originated publicist brokered meet greet trump jr kushner member president donald trump campaignthe attorney scott balber told cnn publicist rob goldstone probably exaggerated maybe willfully contorted fact purpose making meeting interesting trump people seed russia collusion story born cnn reported document consistent client understanding purpose meeting beginning time thereafter effort launch legislative review magnitsky act balber told cnngoldstone knew trump 2013 miss universe pageant moscow client performed pageant\"\"\"]"
      ],
      "metadata": {
        "id": "W1uy6fO_NjMh"
      },
      "execution_count": null,
      "outputs": []
    },
    {
      "cell_type": "code",
      "source": [
        "import re\n",
        "import nltk\n",
        "from nltk.corpus import stopwords\n",
        "\n",
        "text[0] = text[0].lower()\n",
        "\n",
        "import re\n",
        "def remove_url(text_data):\n",
        "  \"\"\"remove_url takes raw text and removes urls from the text.\n",
        "     https://stackoverflow.com/questions/11331982/how-to-remove-any-url-within-a-string-in-python/40823105#40823105\n",
        "     \"\"\"\n",
        "  return re.sub(r\"http\\S+\", \"\", text_data)\n",
        "\n",
        "text[0] = remove_url(text[0])\n",
        "\n",
        "# Download NLTK stopwords\n",
        "nltk.download('stopwords')\n",
        "\n",
        "# Load stopwords\n",
        "stop = stopwords.words('english')\n",
        "\n",
        "# Example text (for demonstration purposes)\n",
        "# text = [\"Hello, this is a test! \\n This should be cleaned up...\"]\n",
        "\n",
        "# Perform cleaning operations on the first element of the list (text[0])\n",
        "text[0] = re.sub(r'[^A-Za-z0-9\\s]', '', text[0])  # Remove non-alphanumeric characters using regex\n",
        "text[0] = text[0].replace('\\n', '')  # Replace newlines with spaces\n",
        "text[0] = re.sub(r'\\s+', ' ', text[0])  # Replace multiple spaces with a single space\n",
        "\n",
        "# Remove stopwords\n",
        "text[0] = \" \".join([word for word in text[0].split() if word.lower() not in stop])\n",
        "\n",
        "\n",
        "# Lemmatization:\n",
        "from nltk.tokenize import word_tokenize\n",
        "from nltk.stem import WordNetLemmatizer\n",
        "nltk.download('punkt_tab')\n",
        "nltk.download('wordnet')\n",
        "\n",
        "def lemmatization(words):\n",
        "  wl = WordNetLemmatizer()\n",
        "  lemma_words = []\n",
        "  for i in words:\n",
        "  # applying Lemmatization\n",
        "    lemma_words.append(wl.lemmatize(i))\n",
        "\n",
        "  return \" \".join(lemma_words)\n",
        "\n",
        "# converting text into tokens of word like 'donald trump wish american' to ['donald', 'trump', 'wish', 'american']\n",
        "tokens = word_tokenize(text[0])\n",
        "text[0] = lemmatization(tokens)\n",
        "\n",
        "# Output the cleaned text\n",
        "# print(text[0])\n",
        "\n",
        "\n",
        "from tensorflow.keras.preprocessing.text import Tokenizer\n",
        "import numpy as np\n",
        "from keras.preprocessing.sequence import pad_sequences\n",
        "\n",
        "tokenizer = Tokenizer()\n",
        "# convert data-text into single word\n",
        "tokenizer.fit_on_texts(text)\n",
        "# word_index(Vocabulary of corpus) a dictionary with word and their index\n",
        "word_index = tokenizer.word_index\n",
        "# print('Total Unique words are ',len(word_index))\n",
        "\n",
        "# padding data to make all text rows with same length\n",
        "sequences = tokenizer.texts_to_sequences(text)\n",
        "# padding='post' - to make same length text(news) adding extra 0 at end of the text\n",
        "# truncating='post' -(default) after making len of 10000 truncate those words whose has more len than 10000 at end\n",
        "padded_seq_New = pad_sequences(sequences, maxlen=10000, padding='post')\n",
        "\n",
        "# padded_seq_New.shape"
      ],
      "metadata": {
        "colab": {
          "base_uri": "https://localhost:8080/"
        },
        "id": "v_8oPtG6Sxgw",
        "outputId": "cb372856-a975-474b-dabd-4f28fbac9995"
      },
      "execution_count": null,
      "outputs": [
        {
          "output_type": "stream",
          "name": "stderr",
          "text": [
            "[nltk_data] Downloading package stopwords to /root/nltk_data...\n",
            "[nltk_data]   Package stopwords is already up-to-date!\n",
            "[nltk_data] Downloading package punkt_tab to /root/nltk_data...\n",
            "[nltk_data]   Package punkt_tab is already up-to-date!\n",
            "[nltk_data] Downloading package wordnet to /root/nltk_data...\n",
            "[nltk_data]   Package wordnet is already up-to-date!\n"
          ]
        }
      ]
    },
    {
      "cell_type": "code",
      "source": [
        "new_prediction = model.predict(padded_seq_New)\n",
        "if new_prediction[0][0]<0.5 :\n",
        "  print('Fake')\n",
        "else:\n",
        "  print('True')"
      ],
      "metadata": {
        "colab": {
          "base_uri": "https://localhost:8080/"
        },
        "id": "CIAeUgqjZN5F",
        "outputId": "a20f2fb4-c6d1-4a09-bcf6-52f7cced1bcf"
      },
      "execution_count": null,
      "outputs": [
        {
          "output_type": "stream",
          "name": "stdout",
          "text": [
            "\u001b[1m1/1\u001b[0m \u001b[32m━━━━━━━━━━━━━━━━━━━━\u001b[0m\u001b[37m\u001b[0m \u001b[1m0s\u001b[0m 24ms/step\n"
          ]
        },
        {
          "output_type": "execute_result",
          "data": {
            "text/plain": [
              "array([[1.1322134e-05]], dtype=float32)"
            ]
          },
          "metadata": {},
          "execution_count": 82
        }
      ]
    },
    {
      "cell_type": "code",
      "source": [],
      "metadata": {
        "id": "yUr8zgnlZjuh"
      },
      "execution_count": null,
      "outputs": []
    }
  ],
  "metadata": {
    "colab": {
      "provenance": [],
      "gpuType": "T4"
    },
    "kaggle": {
      "accelerator": "none",
      "dataSources": [
        {
          "datasetId": 5989735,
          "sourceId": 9777605,
          "sourceType": "datasetVersion"
        },
        {
          "datasetId": 5989879,
          "sourceId": 9777816,
          "sourceType": "datasetVersion"
        }
      ],
      "dockerImageVersionId": 30786,
      "isGpuEnabled": false,
      "isInternetEnabled": false,
      "language": "python",
      "sourceType": "notebook"
    },
    "kernelspec": {
      "display_name": "Python 3",
      "name": "python3"
    },
    "language_info": {
      "codemirror_mode": {
        "name": "ipython",
        "version": 3
      },
      "file_extension": ".py",
      "mimetype": "text/x-python",
      "name": "python",
      "nbconvert_exporter": "python",
      "pygments_lexer": "ipython3",
      "version": "3.12.4"
    },
    "accelerator": "GPU"
  },
  "nbformat": 4,
  "nbformat_minor": 0
}